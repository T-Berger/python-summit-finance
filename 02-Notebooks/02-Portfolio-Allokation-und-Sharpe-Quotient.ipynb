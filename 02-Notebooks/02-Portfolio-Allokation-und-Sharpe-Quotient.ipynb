{
 "cells": [
  {
   "cell_type": "markdown",
   "metadata": {},
   "source": [
    "# Sharpe Quotient und Portfoliowerte"
   ]
  },
  {
   "cell_type": "code",
   "execution_count": 1,
   "metadata": {},
   "outputs": [],
   "source": [
    "import pandas as pd"
   ]
  },
  {
   "cell_type": "code",
   "execution_count": 2,
   "metadata": {},
   "outputs": [],
   "source": [
    "import pandas_datareader.data as web"
   ]
  },
  {
   "cell_type": "markdown",
   "metadata": {},
   "source": [
    "## Ein Portfolio erstellen"
   ]
  },
  {
   "cell_type": "code",
   "execution_count": 3,
   "metadata": {},
   "outputs": [],
   "source": [
    "start = pd.to_datetime('2015-01-01')\n",
    "end = pd.to_datetime('2020-01-01')"
   ]
  },
  {
   "cell_type": "code",
   "execution_count": 4,
   "metadata": {},
   "outputs": [],
   "source": [
    "# Wir erfassen ein paar Technologie Aktien für unser Portfolio\n",
    "\n",
    "\n",
    "api_key='2a63c08d0b8317b023013f93caf899c67d09304e'\n",
    "\n",
    "aapl = web.get_data_tiingo('AAPL', start=start, end=end, api_key=api_key)\n",
    "cisco = web.get_data_tiingo('CSCO', start=start, end=end, api_key=api_key)\n",
    "amzn = web.get_data_tiingo('AMZN', start=start, end=end, api_key=api_key)\n",
    "ibm = web.get_data_tiingo('IBM', start=start, end=end, api_key=api_key)"
   ]
  },
  {
   "cell_type": "code",
   "execution_count": 5,
   "metadata": {},
   "outputs": [],
   "source": [
    "aapl = aapl.droplevel(0)\n",
    "cisco = cisco.droplevel(0)\n",
    "ibm = ibm.droplevel(0)\n",
    "amzn = amzn.droplevel(0)"
   ]
  },
  {
   "cell_type": "code",
   "execution_count": 6,
   "metadata": {},
   "outputs": [],
   "source": [
    "aapl.to_csv('AAPL_CLOSE')\n",
    "cisco.to_csv('CISCO_CLOSE')\n",
    "ibm.to_csv('BAYN_CLOSE')\n",
    "amzn.to_csv('AMZN_CLOSE')"
   ]
  },
  {
   "cell_type": "code",
   "execution_count": 7,
   "metadata": {},
   "outputs": [
    {
     "data": {
      "text/html": [
       "<div>\n",
       "<style scoped>\n",
       "    .dataframe tbody tr th:only-of-type {\n",
       "        vertical-align: middle;\n",
       "    }\n",
       "\n",
       "    .dataframe tbody tr th {\n",
       "        vertical-align: top;\n",
       "    }\n",
       "\n",
       "    .dataframe thead th {\n",
       "        text-align: right;\n",
       "    }\n",
       "</style>\n",
       "<table border=\"1\" class=\"dataframe\">\n",
       "  <thead>\n",
       "    <tr style=\"text-align: right;\">\n",
       "      <th></th>\n",
       "      <th>close</th>\n",
       "      <th>high</th>\n",
       "      <th>low</th>\n",
       "      <th>open</th>\n",
       "      <th>volume</th>\n",
       "      <th>adjClose</th>\n",
       "      <th>adjHigh</th>\n",
       "      <th>adjLow</th>\n",
       "      <th>adjOpen</th>\n",
       "      <th>adjVolume</th>\n",
       "      <th>divCash</th>\n",
       "      <th>splitFactor</th>\n",
       "    </tr>\n",
       "    <tr>\n",
       "      <th>date</th>\n",
       "      <th></th>\n",
       "      <th></th>\n",
       "      <th></th>\n",
       "      <th></th>\n",
       "      <th></th>\n",
       "      <th></th>\n",
       "      <th></th>\n",
       "      <th></th>\n",
       "      <th></th>\n",
       "      <th></th>\n",
       "      <th></th>\n",
       "      <th></th>\n",
       "    </tr>\n",
       "  </thead>\n",
       "  <tbody>\n",
       "    <tr>\n",
       "      <td>2015-01-02 00:00:00+00:00</td>\n",
       "      <td>109.33</td>\n",
       "      <td>111.44</td>\n",
       "      <td>107.350</td>\n",
       "      <td>111.39</td>\n",
       "      <td>53204626</td>\n",
       "      <td>24.939486</td>\n",
       "      <td>25.420803</td>\n",
       "      <td>24.487825</td>\n",
       "      <td>25.409397</td>\n",
       "      <td>212818504</td>\n",
       "      <td>0.0</td>\n",
       "      <td>1.0</td>\n",
       "    </tr>\n",
       "    <tr>\n",
       "      <td>2015-01-05 00:00:00+00:00</td>\n",
       "      <td>106.25</td>\n",
       "      <td>108.65</td>\n",
       "      <td>105.410</td>\n",
       "      <td>108.29</td>\n",
       "      <td>64285491</td>\n",
       "      <td>24.236901</td>\n",
       "      <td>24.784370</td>\n",
       "      <td>24.045287</td>\n",
       "      <td>24.702250</td>\n",
       "      <td>257141964</td>\n",
       "      <td>0.0</td>\n",
       "      <td>1.0</td>\n",
       "    </tr>\n",
       "    <tr>\n",
       "      <td>2015-01-06 00:00:00+00:00</td>\n",
       "      <td>106.26</td>\n",
       "      <td>107.43</td>\n",
       "      <td>104.630</td>\n",
       "      <td>106.54</td>\n",
       "      <td>65797116</td>\n",
       "      <td>24.239182</td>\n",
       "      <td>24.506074</td>\n",
       "      <td>23.867360</td>\n",
       "      <td>24.303054</td>\n",
       "      <td>263188464</td>\n",
       "      <td>0.0</td>\n",
       "      <td>1.0</td>\n",
       "    </tr>\n",
       "    <tr>\n",
       "      <td>2015-01-07 00:00:00+00:00</td>\n",
       "      <td>107.75</td>\n",
       "      <td>108.20</td>\n",
       "      <td>106.695</td>\n",
       "      <td>107.20</td>\n",
       "      <td>40105934</td>\n",
       "      <td>24.579069</td>\n",
       "      <td>24.681720</td>\n",
       "      <td>24.338411</td>\n",
       "      <td>24.453608</td>\n",
       "      <td>160423736</td>\n",
       "      <td>0.0</td>\n",
       "      <td>1.0</td>\n",
       "    </tr>\n",
       "    <tr>\n",
       "      <td>2015-01-08 00:00:00+00:00</td>\n",
       "      <td>111.89</td>\n",
       "      <td>112.15</td>\n",
       "      <td>108.700</td>\n",
       "      <td>109.23</td>\n",
       "      <td>59364547</td>\n",
       "      <td>25.523453</td>\n",
       "      <td>25.582762</td>\n",
       "      <td>24.795776</td>\n",
       "      <td>24.916675</td>\n",
       "      <td>237458188</td>\n",
       "      <td>0.0</td>\n",
       "      <td>1.0</td>\n",
       "    </tr>\n",
       "  </tbody>\n",
       "</table>\n",
       "</div>"
      ],
      "text/plain": [
       "                            close    high      low    open    volume  \\\n",
       "date                                                                   \n",
       "2015-01-02 00:00:00+00:00  109.33  111.44  107.350  111.39  53204626   \n",
       "2015-01-05 00:00:00+00:00  106.25  108.65  105.410  108.29  64285491   \n",
       "2015-01-06 00:00:00+00:00  106.26  107.43  104.630  106.54  65797116   \n",
       "2015-01-07 00:00:00+00:00  107.75  108.20  106.695  107.20  40105934   \n",
       "2015-01-08 00:00:00+00:00  111.89  112.15  108.700  109.23  59364547   \n",
       "\n",
       "                            adjClose    adjHigh     adjLow    adjOpen  \\\n",
       "date                                                                    \n",
       "2015-01-02 00:00:00+00:00  24.939486  25.420803  24.487825  25.409397   \n",
       "2015-01-05 00:00:00+00:00  24.236901  24.784370  24.045287  24.702250   \n",
       "2015-01-06 00:00:00+00:00  24.239182  24.506074  23.867360  24.303054   \n",
       "2015-01-07 00:00:00+00:00  24.579069  24.681720  24.338411  24.453608   \n",
       "2015-01-08 00:00:00+00:00  25.523453  25.582762  24.795776  24.916675   \n",
       "\n",
       "                           adjVolume  divCash  splitFactor  \n",
       "date                                                        \n",
       "2015-01-02 00:00:00+00:00  212818504      0.0          1.0  \n",
       "2015-01-05 00:00:00+00:00  257141964      0.0          1.0  \n",
       "2015-01-06 00:00:00+00:00  263188464      0.0          1.0  \n",
       "2015-01-07 00:00:00+00:00  160423736      0.0          1.0  \n",
       "2015-01-08 00:00:00+00:00  237458188      0.0          1.0  "
      ]
     },
     "execution_count": 7,
     "metadata": {},
     "output_type": "execute_result"
    }
   ],
   "source": [
    "aapl.head()"
   ]
  },
  {
   "cell_type": "markdown",
   "metadata": {},
   "source": [
    "## Preise normalisieren\n",
    "\n",
    "Das ist dasselbe wie die gesamten täglichen Renditewerte (cumulative daily returns)."
   ]
  },
  {
   "cell_type": "code",
   "execution_count": 8,
   "metadata": {},
   "outputs": [
    {
     "data": {
      "text/plain": [
       "24.9394863781"
      ]
     },
     "execution_count": 8,
     "metadata": {},
     "output_type": "execute_result"
    }
   ],
   "source": [
    "# Beispiel\n",
    "aapl.iloc[0]['adjClose']"
   ]
  },
  {
   "cell_type": "code",
   "execution_count": 9,
   "metadata": {},
   "outputs": [],
   "source": [
    "for stock_df in (aapl,cisco,ibm,amzn):\n",
    "    stock_df['Normed Return'] = stock_df['adjClose']/stock_df.iloc[0]['adjClose']"
   ]
  },
  {
   "cell_type": "code",
   "execution_count": 10,
   "metadata": {},
   "outputs": [
    {
     "data": {
      "text/html": [
       "<div>\n",
       "<style scoped>\n",
       "    .dataframe tbody tr th:only-of-type {\n",
       "        vertical-align: middle;\n",
       "    }\n",
       "\n",
       "    .dataframe tbody tr th {\n",
       "        vertical-align: top;\n",
       "    }\n",
       "\n",
       "    .dataframe thead th {\n",
       "        text-align: right;\n",
       "    }\n",
       "</style>\n",
       "<table border=\"1\" class=\"dataframe\">\n",
       "  <thead>\n",
       "    <tr style=\"text-align: right;\">\n",
       "      <th></th>\n",
       "      <th>close</th>\n",
       "      <th>high</th>\n",
       "      <th>low</th>\n",
       "      <th>open</th>\n",
       "      <th>volume</th>\n",
       "      <th>adjClose</th>\n",
       "      <th>adjHigh</th>\n",
       "      <th>adjLow</th>\n",
       "      <th>adjOpen</th>\n",
       "      <th>adjVolume</th>\n",
       "      <th>divCash</th>\n",
       "      <th>splitFactor</th>\n",
       "      <th>Normed Return</th>\n",
       "    </tr>\n",
       "    <tr>\n",
       "      <th>date</th>\n",
       "      <th></th>\n",
       "      <th></th>\n",
       "      <th></th>\n",
       "      <th></th>\n",
       "      <th></th>\n",
       "      <th></th>\n",
       "      <th></th>\n",
       "      <th></th>\n",
       "      <th></th>\n",
       "      <th></th>\n",
       "      <th></th>\n",
       "      <th></th>\n",
       "      <th></th>\n",
       "    </tr>\n",
       "  </thead>\n",
       "  <tbody>\n",
       "    <tr>\n",
       "      <td>2015-01-02 00:00:00+00:00</td>\n",
       "      <td>109.33</td>\n",
       "      <td>111.44</td>\n",
       "      <td>107.350</td>\n",
       "      <td>111.39</td>\n",
       "      <td>53204626</td>\n",
       "      <td>24.939486</td>\n",
       "      <td>25.420803</td>\n",
       "      <td>24.487825</td>\n",
       "      <td>25.409397</td>\n",
       "      <td>212818504</td>\n",
       "      <td>0.0</td>\n",
       "      <td>1.0</td>\n",
       "      <td>1.000000</td>\n",
       "    </tr>\n",
       "    <tr>\n",
       "      <td>2015-01-05 00:00:00+00:00</td>\n",
       "      <td>106.25</td>\n",
       "      <td>108.65</td>\n",
       "      <td>105.410</td>\n",
       "      <td>108.29</td>\n",
       "      <td>64285491</td>\n",
       "      <td>24.236901</td>\n",
       "      <td>24.784370</td>\n",
       "      <td>24.045287</td>\n",
       "      <td>24.702250</td>\n",
       "      <td>257141964</td>\n",
       "      <td>0.0</td>\n",
       "      <td>1.0</td>\n",
       "      <td>0.971828</td>\n",
       "    </tr>\n",
       "    <tr>\n",
       "      <td>2015-01-06 00:00:00+00:00</td>\n",
       "      <td>106.26</td>\n",
       "      <td>107.43</td>\n",
       "      <td>104.630</td>\n",
       "      <td>106.54</td>\n",
       "      <td>65797116</td>\n",
       "      <td>24.239182</td>\n",
       "      <td>24.506074</td>\n",
       "      <td>23.867360</td>\n",
       "      <td>24.303054</td>\n",
       "      <td>263188464</td>\n",
       "      <td>0.0</td>\n",
       "      <td>1.0</td>\n",
       "      <td>0.971920</td>\n",
       "    </tr>\n",
       "    <tr>\n",
       "      <td>2015-01-07 00:00:00+00:00</td>\n",
       "      <td>107.75</td>\n",
       "      <td>108.20</td>\n",
       "      <td>106.695</td>\n",
       "      <td>107.20</td>\n",
       "      <td>40105934</td>\n",
       "      <td>24.579069</td>\n",
       "      <td>24.681720</td>\n",
       "      <td>24.338411</td>\n",
       "      <td>24.453608</td>\n",
       "      <td>160423736</td>\n",
       "      <td>0.0</td>\n",
       "      <td>1.0</td>\n",
       "      <td>0.985548</td>\n",
       "    </tr>\n",
       "    <tr>\n",
       "      <td>2015-01-08 00:00:00+00:00</td>\n",
       "      <td>111.89</td>\n",
       "      <td>112.15</td>\n",
       "      <td>108.700</td>\n",
       "      <td>109.23</td>\n",
       "      <td>59364547</td>\n",
       "      <td>25.523453</td>\n",
       "      <td>25.582762</td>\n",
       "      <td>24.795776</td>\n",
       "      <td>24.916675</td>\n",
       "      <td>237458188</td>\n",
       "      <td>0.0</td>\n",
       "      <td>1.0</td>\n",
       "      <td>1.023415</td>\n",
       "    </tr>\n",
       "  </tbody>\n",
       "</table>\n",
       "</div>"
      ],
      "text/plain": [
       "                            close    high      low    open    volume  \\\n",
       "date                                                                   \n",
       "2015-01-02 00:00:00+00:00  109.33  111.44  107.350  111.39  53204626   \n",
       "2015-01-05 00:00:00+00:00  106.25  108.65  105.410  108.29  64285491   \n",
       "2015-01-06 00:00:00+00:00  106.26  107.43  104.630  106.54  65797116   \n",
       "2015-01-07 00:00:00+00:00  107.75  108.20  106.695  107.20  40105934   \n",
       "2015-01-08 00:00:00+00:00  111.89  112.15  108.700  109.23  59364547   \n",
       "\n",
       "                            adjClose    adjHigh     adjLow    adjOpen  \\\n",
       "date                                                                    \n",
       "2015-01-02 00:00:00+00:00  24.939486  25.420803  24.487825  25.409397   \n",
       "2015-01-05 00:00:00+00:00  24.236901  24.784370  24.045287  24.702250   \n",
       "2015-01-06 00:00:00+00:00  24.239182  24.506074  23.867360  24.303054   \n",
       "2015-01-07 00:00:00+00:00  24.579069  24.681720  24.338411  24.453608   \n",
       "2015-01-08 00:00:00+00:00  25.523453  25.582762  24.795776  24.916675   \n",
       "\n",
       "                           adjVolume  divCash  splitFactor  Normed Return  \n",
       "date                                                                       \n",
       "2015-01-02 00:00:00+00:00  212818504      0.0          1.0       1.000000  \n",
       "2015-01-05 00:00:00+00:00  257141964      0.0          1.0       0.971828  \n",
       "2015-01-06 00:00:00+00:00  263188464      0.0          1.0       0.971920  \n",
       "2015-01-07 00:00:00+00:00  160423736      0.0          1.0       0.985548  \n",
       "2015-01-08 00:00:00+00:00  237458188      0.0          1.0       1.023415  "
      ]
     },
     "execution_count": 10,
     "metadata": {},
     "output_type": "execute_result"
    }
   ],
   "source": [
    "aapl.head()"
   ]
  },
  {
   "cell_type": "code",
   "execution_count": 11,
   "metadata": {},
   "outputs": [
    {
     "data": {
      "text/html": [
       "<div>\n",
       "<style scoped>\n",
       "    .dataframe tbody tr th:only-of-type {\n",
       "        vertical-align: middle;\n",
       "    }\n",
       "\n",
       "    .dataframe tbody tr th {\n",
       "        vertical-align: top;\n",
       "    }\n",
       "\n",
       "    .dataframe thead th {\n",
       "        text-align: right;\n",
       "    }\n",
       "</style>\n",
       "<table border=\"1\" class=\"dataframe\">\n",
       "  <thead>\n",
       "    <tr style=\"text-align: right;\">\n",
       "      <th></th>\n",
       "      <th>close</th>\n",
       "      <th>high</th>\n",
       "      <th>low</th>\n",
       "      <th>open</th>\n",
       "      <th>volume</th>\n",
       "      <th>adjClose</th>\n",
       "      <th>adjHigh</th>\n",
       "      <th>adjLow</th>\n",
       "      <th>adjOpen</th>\n",
       "      <th>adjVolume</th>\n",
       "      <th>divCash</th>\n",
       "      <th>splitFactor</th>\n",
       "      <th>Normed Return</th>\n",
       "    </tr>\n",
       "    <tr>\n",
       "      <th>date</th>\n",
       "      <th></th>\n",
       "      <th></th>\n",
       "      <th></th>\n",
       "      <th></th>\n",
       "      <th></th>\n",
       "      <th></th>\n",
       "      <th></th>\n",
       "      <th></th>\n",
       "      <th></th>\n",
       "      <th></th>\n",
       "      <th></th>\n",
       "      <th></th>\n",
       "      <th></th>\n",
       "    </tr>\n",
       "  </thead>\n",
       "  <tbody>\n",
       "    <tr>\n",
       "      <td>2019-12-24 00:00:00+00:00</td>\n",
       "      <td>284.27</td>\n",
       "      <td>284.89</td>\n",
       "      <td>282.92</td>\n",
       "      <td>284.69</td>\n",
       "      <td>12119714</td>\n",
       "      <td>70.579741</td>\n",
       "      <td>70.733678</td>\n",
       "      <td>70.244558</td>\n",
       "      <td>70.684021</td>\n",
       "      <td>48478856</td>\n",
       "      <td>0.0</td>\n",
       "      <td>1.0</td>\n",
       "      <td>2.830040</td>\n",
       "    </tr>\n",
       "    <tr>\n",
       "      <td>2019-12-26 00:00:00+00:00</td>\n",
       "      <td>289.91</td>\n",
       "      <td>289.98</td>\n",
       "      <td>284.70</td>\n",
       "      <td>284.82</td>\n",
       "      <td>23334004</td>\n",
       "      <td>71.980064</td>\n",
       "      <td>71.997444</td>\n",
       "      <td>70.686504</td>\n",
       "      <td>70.716298</td>\n",
       "      <td>93336016</td>\n",
       "      <td>0.0</td>\n",
       "      <td>1.0</td>\n",
       "      <td>2.886189</td>\n",
       "    </tr>\n",
       "    <tr>\n",
       "      <td>2019-12-27 00:00:00+00:00</td>\n",
       "      <td>289.80</td>\n",
       "      <td>293.97</td>\n",
       "      <td>288.12</td>\n",
       "      <td>291.12</td>\n",
       "      <td>36592936</td>\n",
       "      <td>71.952753</td>\n",
       "      <td>72.988098</td>\n",
       "      <td>71.535635</td>\n",
       "      <td>72.280488</td>\n",
       "      <td>146371744</td>\n",
       "      <td>0.0</td>\n",
       "      <td>1.0</td>\n",
       "      <td>2.885094</td>\n",
       "    </tr>\n",
       "    <tr>\n",
       "      <td>2019-12-30 00:00:00+00:00</td>\n",
       "      <td>291.52</td>\n",
       "      <td>292.69</td>\n",
       "      <td>285.22</td>\n",
       "      <td>289.46</td>\n",
       "      <td>36059614</td>\n",
       "      <td>72.379802</td>\n",
       "      <td>72.670294</td>\n",
       "      <td>70.815611</td>\n",
       "      <td>71.868336</td>\n",
       "      <td>144238456</td>\n",
       "      <td>0.0</td>\n",
       "      <td>1.0</td>\n",
       "      <td>2.902217</td>\n",
       "    </tr>\n",
       "    <tr>\n",
       "      <td>2019-12-31 00:00:00+00:00</td>\n",
       "      <td>293.65</td>\n",
       "      <td>293.68</td>\n",
       "      <td>289.52</td>\n",
       "      <td>289.93</td>\n",
       "      <td>25247625</td>\n",
       "      <td>72.908647</td>\n",
       "      <td>72.916095</td>\n",
       "      <td>71.883233</td>\n",
       "      <td>71.985030</td>\n",
       "      <td>100990500</td>\n",
       "      <td>0.0</td>\n",
       "      <td>1.0</td>\n",
       "      <td>2.923422</td>\n",
       "    </tr>\n",
       "  </tbody>\n",
       "</table>\n",
       "</div>"
      ],
      "text/plain": [
       "                            close    high     low    open    volume  \\\n",
       "date                                                                  \n",
       "2019-12-24 00:00:00+00:00  284.27  284.89  282.92  284.69  12119714   \n",
       "2019-12-26 00:00:00+00:00  289.91  289.98  284.70  284.82  23334004   \n",
       "2019-12-27 00:00:00+00:00  289.80  293.97  288.12  291.12  36592936   \n",
       "2019-12-30 00:00:00+00:00  291.52  292.69  285.22  289.46  36059614   \n",
       "2019-12-31 00:00:00+00:00  293.65  293.68  289.52  289.93  25247625   \n",
       "\n",
       "                            adjClose    adjHigh     adjLow    adjOpen  \\\n",
       "date                                                                    \n",
       "2019-12-24 00:00:00+00:00  70.579741  70.733678  70.244558  70.684021   \n",
       "2019-12-26 00:00:00+00:00  71.980064  71.997444  70.686504  70.716298   \n",
       "2019-12-27 00:00:00+00:00  71.952753  72.988098  71.535635  72.280488   \n",
       "2019-12-30 00:00:00+00:00  72.379802  72.670294  70.815611  71.868336   \n",
       "2019-12-31 00:00:00+00:00  72.908647  72.916095  71.883233  71.985030   \n",
       "\n",
       "                           adjVolume  divCash  splitFactor  Normed Return  \n",
       "date                                                                       \n",
       "2019-12-24 00:00:00+00:00   48478856      0.0          1.0       2.830040  \n",
       "2019-12-26 00:00:00+00:00   93336016      0.0          1.0       2.886189  \n",
       "2019-12-27 00:00:00+00:00  146371744      0.0          1.0       2.885094  \n",
       "2019-12-30 00:00:00+00:00  144238456      0.0          1.0       2.902217  \n",
       "2019-12-31 00:00:00+00:00  100990500      0.0          1.0       2.923422  "
      ]
     },
     "execution_count": 11,
     "metadata": {},
     "output_type": "execute_result"
    }
   ],
   "source": [
    "aapl.tail()"
   ]
  },
  {
   "cell_type": "markdown",
   "metadata": {},
   "source": [
    "## Allokationen\n",
    "\n",
    "Mal angenommen, wir hätten die folgenden Allokationen für unser gesamtes Portfolio:\n",
    "\n",
    "* 30% in Apple\n",
    "* 20% in Cisco\n",
    "* 40% in Amazon\n",
    "* 10% in IBM\n",
    "\n",
    "Reflektieren wir diese Werte, indem wir unsere normierte Rendite (Normed Return) mit unseren Allokationen multiplizieren."
   ]
  },
  {
   "cell_type": "code",
   "execution_count": 12,
   "metadata": {},
   "outputs": [],
   "source": [
    "for stock_df,allo in zip([aapl,cisco,ibm,amzn],[.3,.2,.1,.4]):\n",
    "    stock_df['Allocation'] = stock_df['Normed Return']*allo"
   ]
  },
  {
   "cell_type": "code",
   "execution_count": 13,
   "metadata": {},
   "outputs": [
    {
     "data": {
      "text/html": [
       "<div>\n",
       "<style scoped>\n",
       "    .dataframe tbody tr th:only-of-type {\n",
       "        vertical-align: middle;\n",
       "    }\n",
       "\n",
       "    .dataframe tbody tr th {\n",
       "        vertical-align: top;\n",
       "    }\n",
       "\n",
       "    .dataframe thead th {\n",
       "        text-align: right;\n",
       "    }\n",
       "</style>\n",
       "<table border=\"1\" class=\"dataframe\">\n",
       "  <thead>\n",
       "    <tr style=\"text-align: right;\">\n",
       "      <th></th>\n",
       "      <th>close</th>\n",
       "      <th>high</th>\n",
       "      <th>low</th>\n",
       "      <th>open</th>\n",
       "      <th>volume</th>\n",
       "      <th>adjClose</th>\n",
       "      <th>adjHigh</th>\n",
       "      <th>adjLow</th>\n",
       "      <th>adjOpen</th>\n",
       "      <th>adjVolume</th>\n",
       "      <th>divCash</th>\n",
       "      <th>splitFactor</th>\n",
       "      <th>Normed Return</th>\n",
       "      <th>Allocation</th>\n",
       "    </tr>\n",
       "    <tr>\n",
       "      <th>date</th>\n",
       "      <th></th>\n",
       "      <th></th>\n",
       "      <th></th>\n",
       "      <th></th>\n",
       "      <th></th>\n",
       "      <th></th>\n",
       "      <th></th>\n",
       "      <th></th>\n",
       "      <th></th>\n",
       "      <th></th>\n",
       "      <th></th>\n",
       "      <th></th>\n",
       "      <th></th>\n",
       "      <th></th>\n",
       "    </tr>\n",
       "  </thead>\n",
       "  <tbody>\n",
       "    <tr>\n",
       "      <td>2015-01-02 00:00:00+00:00</td>\n",
       "      <td>27.61</td>\n",
       "      <td>28.12</td>\n",
       "      <td>27.38</td>\n",
       "      <td>27.860</td>\n",
       "      <td>22926512</td>\n",
       "      <td>22.966611</td>\n",
       "      <td>23.390841</td>\n",
       "      <td>22.775292</td>\n",
       "      <td>23.174567</td>\n",
       "      <td>22926512</td>\n",
       "      <td>0.19</td>\n",
       "      <td>1.0</td>\n",
       "      <td>1.000000</td>\n",
       "      <td>0.200000</td>\n",
       "    </tr>\n",
       "    <tr>\n",
       "      <td>2015-01-05 00:00:00+00:00</td>\n",
       "      <td>27.06</td>\n",
       "      <td>27.45</td>\n",
       "      <td>27.00</td>\n",
       "      <td>27.320</td>\n",
       "      <td>29460603</td>\n",
       "      <td>22.509109</td>\n",
       "      <td>22.833520</td>\n",
       "      <td>22.459200</td>\n",
       "      <td>22.725383</td>\n",
       "      <td>29460603</td>\n",
       "      <td>0.00</td>\n",
       "      <td>1.0</td>\n",
       "      <td>0.980080</td>\n",
       "      <td>0.196016</td>\n",
       "    </tr>\n",
       "    <tr>\n",
       "      <td>2015-01-06 00:00:00+00:00</td>\n",
       "      <td>27.05</td>\n",
       "      <td>27.68</td>\n",
       "      <td>27.04</td>\n",
       "      <td>27.135</td>\n",
       "      <td>47297634</td>\n",
       "      <td>22.500791</td>\n",
       "      <td>23.024839</td>\n",
       "      <td>22.492473</td>\n",
       "      <td>22.571496</td>\n",
       "      <td>47297634</td>\n",
       "      <td>0.00</td>\n",
       "      <td>1.0</td>\n",
       "      <td>0.979717</td>\n",
       "      <td>0.195943</td>\n",
       "    </tr>\n",
       "    <tr>\n",
       "      <td>2015-01-07 00:00:00+00:00</td>\n",
       "      <td>27.30</td>\n",
       "      <td>27.40</td>\n",
       "      <td>26.98</td>\n",
       "      <td>27.140</td>\n",
       "      <td>27570801</td>\n",
       "      <td>22.708746</td>\n",
       "      <td>22.791929</td>\n",
       "      <td>22.442563</td>\n",
       "      <td>22.575655</td>\n",
       "      <td>27570801</td>\n",
       "      <td>0.00</td>\n",
       "      <td>1.0</td>\n",
       "      <td>0.988772</td>\n",
       "      <td>0.197754</td>\n",
       "    </tr>\n",
       "    <tr>\n",
       "      <td>2015-01-08 00:00:00+00:00</td>\n",
       "      <td>27.51</td>\n",
       "      <td>28.09</td>\n",
       "      <td>27.47</td>\n",
       "      <td>27.540</td>\n",
       "      <td>40906993</td>\n",
       "      <td>22.883429</td>\n",
       "      <td>23.365886</td>\n",
       "      <td>22.850156</td>\n",
       "      <td>22.908384</td>\n",
       "      <td>40906993</td>\n",
       "      <td>0.00</td>\n",
       "      <td>1.0</td>\n",
       "      <td>0.996378</td>\n",
       "      <td>0.199276</td>\n",
       "    </tr>\n",
       "  </tbody>\n",
       "</table>\n",
       "</div>"
      ],
      "text/plain": [
       "                           close   high    low    open    volume   adjClose  \\\n",
       "date                                                                          \n",
       "2015-01-02 00:00:00+00:00  27.61  28.12  27.38  27.860  22926512  22.966611   \n",
       "2015-01-05 00:00:00+00:00  27.06  27.45  27.00  27.320  29460603  22.509109   \n",
       "2015-01-06 00:00:00+00:00  27.05  27.68  27.04  27.135  47297634  22.500791   \n",
       "2015-01-07 00:00:00+00:00  27.30  27.40  26.98  27.140  27570801  22.708746   \n",
       "2015-01-08 00:00:00+00:00  27.51  28.09  27.47  27.540  40906993  22.883429   \n",
       "\n",
       "                             adjHigh     adjLow    adjOpen  adjVolume  \\\n",
       "date                                                                    \n",
       "2015-01-02 00:00:00+00:00  23.390841  22.775292  23.174567   22926512   \n",
       "2015-01-05 00:00:00+00:00  22.833520  22.459200  22.725383   29460603   \n",
       "2015-01-06 00:00:00+00:00  23.024839  22.492473  22.571496   47297634   \n",
       "2015-01-07 00:00:00+00:00  22.791929  22.442563  22.575655   27570801   \n",
       "2015-01-08 00:00:00+00:00  23.365886  22.850156  22.908384   40906993   \n",
       "\n",
       "                           divCash  splitFactor  Normed Return  Allocation  \n",
       "date                                                                        \n",
       "2015-01-02 00:00:00+00:00     0.19          1.0       1.000000    0.200000  \n",
       "2015-01-05 00:00:00+00:00     0.00          1.0       0.980080    0.196016  \n",
       "2015-01-06 00:00:00+00:00     0.00          1.0       0.979717    0.195943  \n",
       "2015-01-07 00:00:00+00:00     0.00          1.0       0.988772    0.197754  \n",
       "2015-01-08 00:00:00+00:00     0.00          1.0       0.996378    0.199276  "
      ]
     },
     "execution_count": 13,
     "metadata": {},
     "output_type": "execute_result"
    }
   ],
   "source": [
    "cisco.head()"
   ]
  },
  {
   "cell_type": "markdown",
   "metadata": {},
   "source": [
    "## Investition (Investment)\n",
    "\n",
    "Nehmen wir an, wir würden eine Millionen Dollar in dieses Portfolio investieren."
   ]
  },
  {
   "cell_type": "code",
   "execution_count": 14,
   "metadata": {},
   "outputs": [],
   "source": [
    "for stock_df in [aapl,cisco,ibm,amzn]:\n",
    "    stock_df['Position Values'] = stock_df['Allocation']*1000000"
   ]
  },
  {
   "cell_type": "markdown",
   "metadata": {},
   "source": [
    "## Gesamter Portfoliowert  (Total Portfolio Value)"
   ]
  },
  {
   "cell_type": "code",
   "execution_count": 15,
   "metadata": {},
   "outputs": [],
   "source": [
    "portfolio_val = pd.concat([aapl['Position Values'],cisco['Position Values'],ibm['Position Values'],amzn['Position Values']],axis=1)"
   ]
  },
  {
   "cell_type": "code",
   "execution_count": 16,
   "metadata": {},
   "outputs": [
    {
     "data": {
      "text/html": [
       "<div>\n",
       "<style scoped>\n",
       "    .dataframe tbody tr th:only-of-type {\n",
       "        vertical-align: middle;\n",
       "    }\n",
       "\n",
       "    .dataframe tbody tr th {\n",
       "        vertical-align: top;\n",
       "    }\n",
       "\n",
       "    .dataframe thead th {\n",
       "        text-align: right;\n",
       "    }\n",
       "</style>\n",
       "<table border=\"1\" class=\"dataframe\">\n",
       "  <thead>\n",
       "    <tr style=\"text-align: right;\">\n",
       "      <th></th>\n",
       "      <th>Position Values</th>\n",
       "      <th>Position Values</th>\n",
       "      <th>Position Values</th>\n",
       "      <th>Position Values</th>\n",
       "    </tr>\n",
       "    <tr>\n",
       "      <th>date</th>\n",
       "      <th></th>\n",
       "      <th></th>\n",
       "      <th></th>\n",
       "      <th></th>\n",
       "    </tr>\n",
       "  </thead>\n",
       "  <tbody>\n",
       "    <tr>\n",
       "      <td>2015-01-02 00:00:00+00:00</td>\n",
       "      <td>300000.000000</td>\n",
       "      <td>200000.000000</td>\n",
       "      <td>100000.000000</td>\n",
       "      <td>400000.000000</td>\n",
       "    </tr>\n",
       "    <tr>\n",
       "      <td>2015-01-05 00:00:00+00:00</td>\n",
       "      <td>291548.522821</td>\n",
       "      <td>196015.936254</td>\n",
       "      <td>98426.508700</td>\n",
       "      <td>391793.076624</td>\n",
       "    </tr>\n",
       "    <tr>\n",
       "      <td>2015-01-06 00:00:00+00:00</td>\n",
       "      <td>291575.962682</td>\n",
       "      <td>195943.498732</td>\n",
       "      <td>96303.838085</td>\n",
       "      <td>382847.141190</td>\n",
       "    </tr>\n",
       "    <tr>\n",
       "      <td>2015-01-07 00:00:00+00:00</td>\n",
       "      <td>295664.501966</td>\n",
       "      <td>197754.436798</td>\n",
       "      <td>95674.441565</td>\n",
       "      <td>386905.224945</td>\n",
       "    </tr>\n",
       "    <tr>\n",
       "      <td>2015-01-08 00:00:00+00:00</td>\n",
       "      <td>307024.604409</td>\n",
       "      <td>199275.624773</td>\n",
       "      <td>97753.918302</td>\n",
       "      <td>389550.110204</td>\n",
       "    </tr>\n",
       "  </tbody>\n",
       "</table>\n",
       "</div>"
      ],
      "text/plain": [
       "                           Position Values  Position Values  Position Values  \\\n",
       "date                                                                           \n",
       "2015-01-02 00:00:00+00:00    300000.000000    200000.000000    100000.000000   \n",
       "2015-01-05 00:00:00+00:00    291548.522821    196015.936254     98426.508700   \n",
       "2015-01-06 00:00:00+00:00    291575.962682    195943.498732     96303.838085   \n",
       "2015-01-07 00:00:00+00:00    295664.501966    197754.436798     95674.441565   \n",
       "2015-01-08 00:00:00+00:00    307024.604409    199275.624773     97753.918302   \n",
       "\n",
       "                           Position Values  \n",
       "date                                        \n",
       "2015-01-02 00:00:00+00:00    400000.000000  \n",
       "2015-01-05 00:00:00+00:00    391793.076624  \n",
       "2015-01-06 00:00:00+00:00    382847.141190  \n",
       "2015-01-07 00:00:00+00:00    386905.224945  \n",
       "2015-01-08 00:00:00+00:00    389550.110204  "
      ]
     },
     "execution_count": 16,
     "metadata": {},
     "output_type": "execute_result"
    }
   ],
   "source": [
    "portfolio_val.head()"
   ]
  },
  {
   "cell_type": "code",
   "execution_count": 17,
   "metadata": {},
   "outputs": [],
   "source": [
    "portfolio_val.columns = ['AAPL Pos','CISCO Pos','IBM Pos','AMZN Pos']"
   ]
  },
  {
   "cell_type": "code",
   "execution_count": 18,
   "metadata": {},
   "outputs": [
    {
     "data": {
      "text/html": [
       "<div>\n",
       "<style scoped>\n",
       "    .dataframe tbody tr th:only-of-type {\n",
       "        vertical-align: middle;\n",
       "    }\n",
       "\n",
       "    .dataframe tbody tr th {\n",
       "        vertical-align: top;\n",
       "    }\n",
       "\n",
       "    .dataframe thead th {\n",
       "        text-align: right;\n",
       "    }\n",
       "</style>\n",
       "<table border=\"1\" class=\"dataframe\">\n",
       "  <thead>\n",
       "    <tr style=\"text-align: right;\">\n",
       "      <th></th>\n",
       "      <th>AAPL Pos</th>\n",
       "      <th>CISCO Pos</th>\n",
       "      <th>IBM Pos</th>\n",
       "      <th>AMZN Pos</th>\n",
       "    </tr>\n",
       "    <tr>\n",
       "      <th>date</th>\n",
       "      <th></th>\n",
       "      <th></th>\n",
       "      <th></th>\n",
       "      <th></th>\n",
       "    </tr>\n",
       "  </thead>\n",
       "  <tbody>\n",
       "    <tr>\n",
       "      <td>2015-01-02 00:00:00+00:00</td>\n",
       "      <td>300000.000000</td>\n",
       "      <td>200000.000000</td>\n",
       "      <td>100000.000000</td>\n",
       "      <td>400000.000000</td>\n",
       "    </tr>\n",
       "    <tr>\n",
       "      <td>2015-01-05 00:00:00+00:00</td>\n",
       "      <td>291548.522821</td>\n",
       "      <td>196015.936254</td>\n",
       "      <td>98426.508700</td>\n",
       "      <td>391793.076624</td>\n",
       "    </tr>\n",
       "    <tr>\n",
       "      <td>2015-01-06 00:00:00+00:00</td>\n",
       "      <td>291575.962682</td>\n",
       "      <td>195943.498732</td>\n",
       "      <td>96303.838085</td>\n",
       "      <td>382847.141190</td>\n",
       "    </tr>\n",
       "    <tr>\n",
       "      <td>2015-01-07 00:00:00+00:00</td>\n",
       "      <td>295664.501966</td>\n",
       "      <td>197754.436798</td>\n",
       "      <td>95674.441565</td>\n",
       "      <td>386905.224945</td>\n",
       "    </tr>\n",
       "    <tr>\n",
       "      <td>2015-01-08 00:00:00+00:00</td>\n",
       "      <td>307024.604409</td>\n",
       "      <td>199275.624773</td>\n",
       "      <td>97753.918302</td>\n",
       "      <td>389550.110204</td>\n",
       "    </tr>\n",
       "  </tbody>\n",
       "</table>\n",
       "</div>"
      ],
      "text/plain": [
       "                                AAPL Pos      CISCO Pos        IBM Pos  \\\n",
       "date                                                                     \n",
       "2015-01-02 00:00:00+00:00  300000.000000  200000.000000  100000.000000   \n",
       "2015-01-05 00:00:00+00:00  291548.522821  196015.936254   98426.508700   \n",
       "2015-01-06 00:00:00+00:00  291575.962682  195943.498732   96303.838085   \n",
       "2015-01-07 00:00:00+00:00  295664.501966  197754.436798   95674.441565   \n",
       "2015-01-08 00:00:00+00:00  307024.604409  199275.624773   97753.918302   \n",
       "\n",
       "                                AMZN Pos  \n",
       "date                                      \n",
       "2015-01-02 00:00:00+00:00  400000.000000  \n",
       "2015-01-05 00:00:00+00:00  391793.076624  \n",
       "2015-01-06 00:00:00+00:00  382847.141190  \n",
       "2015-01-07 00:00:00+00:00  386905.224945  \n",
       "2015-01-08 00:00:00+00:00  389550.110204  "
      ]
     },
     "execution_count": 18,
     "metadata": {},
     "output_type": "execute_result"
    }
   ],
   "source": [
    "portfolio_val.head()"
   ]
  },
  {
   "cell_type": "code",
   "execution_count": 19,
   "metadata": {},
   "outputs": [],
   "source": [
    "portfolio_val['Total Pos'] = portfolio_val.sum(axis=1)"
   ]
  },
  {
   "cell_type": "code",
   "execution_count": 20,
   "metadata": {},
   "outputs": [
    {
     "data": {
      "text/html": [
       "<div>\n",
       "<style scoped>\n",
       "    .dataframe tbody tr th:only-of-type {\n",
       "        vertical-align: middle;\n",
       "    }\n",
       "\n",
       "    .dataframe tbody tr th {\n",
       "        vertical-align: top;\n",
       "    }\n",
       "\n",
       "    .dataframe thead th {\n",
       "        text-align: right;\n",
       "    }\n",
       "</style>\n",
       "<table border=\"1\" class=\"dataframe\">\n",
       "  <thead>\n",
       "    <tr style=\"text-align: right;\">\n",
       "      <th></th>\n",
       "      <th>AAPL Pos</th>\n",
       "      <th>CISCO Pos</th>\n",
       "      <th>IBM Pos</th>\n",
       "      <th>AMZN Pos</th>\n",
       "      <th>Total Pos</th>\n",
       "    </tr>\n",
       "    <tr>\n",
       "      <th>date</th>\n",
       "      <th></th>\n",
       "      <th></th>\n",
       "      <th></th>\n",
       "      <th></th>\n",
       "      <th></th>\n",
       "    </tr>\n",
       "  </thead>\n",
       "  <tbody>\n",
       "    <tr>\n",
       "      <td>2015-01-02 00:00:00+00:00</td>\n",
       "      <td>300000.000000</td>\n",
       "      <td>200000.000000</td>\n",
       "      <td>100000.000000</td>\n",
       "      <td>400000.000000</td>\n",
       "      <td>1000000.000000</td>\n",
       "    </tr>\n",
       "    <tr>\n",
       "      <td>2015-01-05 00:00:00+00:00</td>\n",
       "      <td>291548.522821</td>\n",
       "      <td>196015.936254</td>\n",
       "      <td>98426.508700</td>\n",
       "      <td>391793.076624</td>\n",
       "      <td>977784.044400</td>\n",
       "    </tr>\n",
       "    <tr>\n",
       "      <td>2015-01-06 00:00:00+00:00</td>\n",
       "      <td>291575.962682</td>\n",
       "      <td>195943.498732</td>\n",
       "      <td>96303.838085</td>\n",
       "      <td>382847.141190</td>\n",
       "      <td>966670.440689</td>\n",
       "    </tr>\n",
       "    <tr>\n",
       "      <td>2015-01-07 00:00:00+00:00</td>\n",
       "      <td>295664.501966</td>\n",
       "      <td>197754.436798</td>\n",
       "      <td>95674.441565</td>\n",
       "      <td>386905.224945</td>\n",
       "      <td>975998.605274</td>\n",
       "    </tr>\n",
       "    <tr>\n",
       "      <td>2015-01-08 00:00:00+00:00</td>\n",
       "      <td>307024.604409</td>\n",
       "      <td>199275.624773</td>\n",
       "      <td>97753.918302</td>\n",
       "      <td>389550.110204</td>\n",
       "      <td>993604.257687</td>\n",
       "    </tr>\n",
       "  </tbody>\n",
       "</table>\n",
       "</div>"
      ],
      "text/plain": [
       "                                AAPL Pos      CISCO Pos        IBM Pos  \\\n",
       "date                                                                     \n",
       "2015-01-02 00:00:00+00:00  300000.000000  200000.000000  100000.000000   \n",
       "2015-01-05 00:00:00+00:00  291548.522821  196015.936254   98426.508700   \n",
       "2015-01-06 00:00:00+00:00  291575.962682  195943.498732   96303.838085   \n",
       "2015-01-07 00:00:00+00:00  295664.501966  197754.436798   95674.441565   \n",
       "2015-01-08 00:00:00+00:00  307024.604409  199275.624773   97753.918302   \n",
       "\n",
       "                                AMZN Pos       Total Pos  \n",
       "date                                                      \n",
       "2015-01-02 00:00:00+00:00  400000.000000  1000000.000000  \n",
       "2015-01-05 00:00:00+00:00  391793.076624   977784.044400  \n",
       "2015-01-06 00:00:00+00:00  382847.141190   966670.440689  \n",
       "2015-01-07 00:00:00+00:00  386905.224945   975998.605274  \n",
       "2015-01-08 00:00:00+00:00  389550.110204   993604.257687  "
      ]
     },
     "execution_count": 20,
     "metadata": {},
     "output_type": "execute_result"
    }
   ],
   "source": [
    "portfolio_val.head()"
   ]
  },
  {
   "cell_type": "code",
   "execution_count": 21,
   "metadata": {},
   "outputs": [],
   "source": [
    "import matplotlib.pyplot as plt\n",
    "%matplotlib inline"
   ]
  },
  {
   "cell_type": "code",
   "execution_count": 22,
   "metadata": {},
   "outputs": [
    {
     "data": {
      "text/plain": [
       "Text(0.5, 1.0, 'Total Portfolio Value')"
      ]
     },
     "execution_count": 22,
     "metadata": {},
     "output_type": "execute_result"
    },
    {
     "data": {
      "image/png": "[encoded data removed]",
      "text/plain": [
       "<Figure size 720x576 with 1 Axes>"
      ]
     },
     "metadata": {
      "needs_background": "light"
     },
     "output_type": "display_data"
    }
   ],
   "source": [
    "portfolio_val['Total Pos'].plot(figsize=(10,8))\n",
    "plt.title('Total Portfolio Value')"
   ]
  },
  {
   "cell_type": "code",
   "execution_count": 23,
   "metadata": {},
   "outputs": [
    {
     "data": {
      "text/plain": [
       "<matplotlib.axes._subplots.AxesSubplot at 0x1f9b83b9c50>"
      ]
     },
     "execution_count": 23,
     "metadata": {},
     "output_type": "execute_result"
    },
    {
     "data": {
      "image/png": "[encoded data removed]",
      "text/plain": [
       "<Figure size 432x288 with 1 Axes>"
      ]
     },
     "metadata": {
      "needs_background": "light"
     },
     "output_type": "display_data"
    }
   ],
   "source": [
    "portfolio_val.drop('Total Pos',axis=1).plot(kind='line')"
   ]
  },
  {
   "cell_type": "code",
   "execution_count": 24,
   "metadata": {},
   "outputs": [
    {
     "data": {
      "text/html": [
       "<div>\n",
       "<style scoped>\n",
       "    .dataframe tbody tr th:only-of-type {\n",
       "        vertical-align: middle;\n",
       "    }\n",
       "\n",
       "    .dataframe tbody tr th {\n",
       "        vertical-align: top;\n",
       "    }\n",
       "\n",
       "    .dataframe thead th {\n",
       "        text-align: right;\n",
       "    }\n",
       "</style>\n",
       "<table border=\"1\" class=\"dataframe\">\n",
       "  <thead>\n",
       "    <tr style=\"text-align: right;\">\n",
       "      <th></th>\n",
       "      <th>AAPL Pos</th>\n",
       "      <th>CISCO Pos</th>\n",
       "      <th>IBM Pos</th>\n",
       "      <th>AMZN Pos</th>\n",
       "      <th>Total Pos</th>\n",
       "    </tr>\n",
       "    <tr>\n",
       "      <th>date</th>\n",
       "      <th></th>\n",
       "      <th></th>\n",
       "      <th></th>\n",
       "      <th></th>\n",
       "      <th></th>\n",
       "    </tr>\n",
       "  </thead>\n",
       "  <tbody>\n",
       "    <tr>\n",
       "      <td>2019-12-24 00:00:00+00:00</td>\n",
       "      <td>849011.968822</td>\n",
       "      <td>402454.439365</td>\n",
       "      <td>101617.462903</td>\n",
       "      <td>2.319733e+06</td>\n",
       "      <td>3.672817e+06</td>\n",
       "    </tr>\n",
       "    <tr>\n",
       "      <td>2019-12-26 00:00:00+00:00</td>\n",
       "      <td>865856.614772</td>\n",
       "      <td>403044.054492</td>\n",
       "      <td>101564.764559</td>\n",
       "      <td>2.422883e+06</td>\n",
       "      <td>3.793349e+06</td>\n",
       "    </tr>\n",
       "    <tr>\n",
       "      <td>2019-12-27 00:00:00+00:00</td>\n",
       "      <td>865528.084443</td>\n",
       "      <td>402370.208633</td>\n",
       "      <td>101835.784611</td>\n",
       "      <td>2.424219e+06</td>\n",
       "      <td>3.793953e+06</td>\n",
       "    </tr>\n",
       "    <tr>\n",
       "      <td>2019-12-30 00:00:00+00:00</td>\n",
       "      <td>870665.104130</td>\n",
       "      <td>400854.055450</td>\n",
       "      <td>99983.814255</td>\n",
       "      <td>2.394516e+06</td>\n",
       "      <td>3.766019e+06</td>\n",
       "    </tr>\n",
       "    <tr>\n",
       "      <td>2019-12-31 00:00:00+00:00</td>\n",
       "      <td>877026.645952</td>\n",
       "      <td>403970.592549</td>\n",
       "      <td>100909.799433</td>\n",
       "      <td>2.395747e+06</td>\n",
       "      <td>3.777654e+06</td>\n",
       "    </tr>\n",
       "  </tbody>\n",
       "</table>\n",
       "</div>"
      ],
      "text/plain": [
       "                                AAPL Pos      CISCO Pos        IBM Pos  \\\n",
       "date                                                                     \n",
       "2019-12-24 00:00:00+00:00  849011.968822  402454.439365  101617.462903   \n",
       "2019-12-26 00:00:00+00:00  865856.614772  403044.054492  101564.764559   \n",
       "2019-12-27 00:00:00+00:00  865528.084443  402370.208633  101835.784611   \n",
       "2019-12-30 00:00:00+00:00  870665.104130  400854.055450   99983.814255   \n",
       "2019-12-31 00:00:00+00:00  877026.645952  403970.592549  100909.799433   \n",
       "\n",
       "                               AMZN Pos     Total Pos  \n",
       "date                                                   \n",
       "2019-12-24 00:00:00+00:00  2.319733e+06  3.672817e+06  \n",
       "2019-12-26 00:00:00+00:00  2.422883e+06  3.793349e+06  \n",
       "2019-12-27 00:00:00+00:00  2.424219e+06  3.793953e+06  \n",
       "2019-12-30 00:00:00+00:00  2.394516e+06  3.766019e+06  \n",
       "2019-12-31 00:00:00+00:00  2.395747e+06  3.777654e+06  "
      ]
     },
     "execution_count": 24,
     "metadata": {},
     "output_type": "execute_result"
    }
   ],
   "source": [
    "portfolio_val.tail()"
   ]
  },
  {
   "cell_type": "markdown",
   "metadata": {},
   "source": [
    "# Portfolio Statistiken\n",
    "### Tägliche Rendite"
   ]
  },
  {
   "cell_type": "code",
   "execution_count": 25,
   "metadata": {},
   "outputs": [],
   "source": [
    "portfolio_val['Daily Return'] = portfolio_val['Total Pos'].pct_change(1)"
   ]
  },
  {
   "cell_type": "markdown",
   "metadata": {},
   "source": [
    "### Gesamtrendite"
   ]
  },
  {
   "cell_type": "code",
   "execution_count": 26,
   "metadata": {},
   "outputs": [
    {
     "name": "stdout",
     "output_type": "stream",
     "text": [
      "Our return 277.7654477321879 was percent!\n"
     ]
    }
   ],
   "source": [
    "cum_ret = 100 * (portfolio_val['Total Pos'][-1]/portfolio_val['Total Pos'][0] -1 )\n",
    "print('Our return {} was percent!'.format(cum_ret))"
   ]
  },
  {
   "cell_type": "markdown",
   "metadata": {},
   "source": [
    "### Durchschnittliche tägliche Rendite"
   ]
  },
  {
   "cell_type": "code",
   "execution_count": 27,
   "metadata": {},
   "outputs": [
    {
     "data": {
      "text/plain": [
       "0.0011601750555536897"
      ]
     },
     "execution_count": 27,
     "metadata": {},
     "output_type": "execute_result"
    }
   ],
   "source": [
    "portfolio_val['Daily Return'].mean()"
   ]
  },
  {
   "cell_type": "markdown",
   "metadata": {},
   "source": [
    "### Standardabweichung tägliche Rendite"
   ]
  },
  {
   "cell_type": "code",
   "execution_count": 28,
   "metadata": {},
   "outputs": [
    {
     "data": {
      "text/plain": [
       "0.01431947423579281"
      ]
     },
     "execution_count": 28,
     "metadata": {},
     "output_type": "execute_result"
    }
   ],
   "source": [
    "portfolio_val['Daily Return'].std()"
   ]
  },
  {
   "cell_type": "code",
   "execution_count": 29,
   "metadata": {},
   "outputs": [
    {
     "data": {
      "text/plain": [
       "<matplotlib.axes._subplots.AxesSubplot at 0x1f9b87805c0>"
      ]
     },
     "execution_count": 29,
     "metadata": {},
     "output_type": "execute_result"
    },
    {
     "data": {
      "image/png": "[encoded data removed]",
      "text/plain": [
       "<Figure size 432x288 with 1 Axes>"
      ]
     },
     "metadata": {
      "needs_background": "light"
     },
     "output_type": "display_data"
    }
   ],
   "source": [
    "portfolio_val['Daily Return'].plot(kind='kde')"
   ]
  },
  {
   "cell_type": "markdown",
   "metadata": {},
   "source": [
    "# Sharpe Quotient (Sharpe Ratio)\n",
    "\n",
    "Der Sharpe Quotient ist ein Maß zur Berechnung von Risiko-angepasster Rendite. Dieser Quotient ist Industriestandard für solche Berechnungen geworden. \n",
    "\n",
    "Sharpe Quotient = (Durschnittliche Rendite des Portfolios - risikofreie Quote) / Standardabweichung der Rendite des Portfolios\n",
    "\n",
    "Der originale Sharpe Quotient\n",
    "\n",
    "Jährlicher Sharpe Quotient = K-Wert * SQ\n",
    "\n",
    "K-Werte für verschiedene Probenhäufigkeiten:\n",
    "\n",
    "* Täglich = sqrt(252)\n",
    "* Wöchentlich= sqrt(52)\n",
    "* Monatlich = sqrt(12)\n",
    "\n",
    "In der EU verwendet man eine sehr niedrige risikofreie Quote (die Quote, die Du bekommen würdest, wenn du Dein Geld einfach in einer Bank lassen würdest, ist in der EU zur Zeit sehr niedrig, sagen wir ~ 0% Zinsen). Falls Du in einem anderen Land mit höheren Quoten für deine Handelswährung lebst, kannst Du diesen Trick benutzen, um eine jährliche Quote in eine tägliche Quote umzuwandeln:\n",
    "\n",
    "tägliche_quote = ((1.0 + jährliche_quote)**(1/252))-1\n",
    "\n",
    "Andere Werte, die Leute benutzen, sind Sachen wie 3-monatige Staatsanleihen oder [LIBOR](http://www.investopedia.com/terms/l/libor.asp) / EURIBOR.\n",
    "\n",
    "Lies mehr dazu: [Sharpe Quotient](http://www.investopedia.com/terms/s/sharperatio)"
   ]
  },
  {
   "cell_type": "code",
   "execution_count": 30,
   "metadata": {},
   "outputs": [],
   "source": [
    "SR = portfolio_val['Daily Return'].mean()/portfolio_val['Daily Return'].std()"
   ]
  },
  {
   "cell_type": "code",
   "execution_count": 31,
   "metadata": {},
   "outputs": [
    {
     "data": {
      "text/plain": [
       "0.08102078585076317"
      ]
     },
     "execution_count": 31,
     "metadata": {},
     "output_type": "execute_result"
    }
   ],
   "source": [
    "SR"
   ]
  },
  {
   "cell_type": "code",
   "execution_count": 32,
   "metadata": {},
   "outputs": [],
   "source": [
    "annual_SR = (252**0.5)*SR"
   ]
  },
  {
   "cell_type": "code",
   "execution_count": 33,
   "metadata": {},
   "outputs": [
    {
     "data": {
      "text/plain": [
       "1.2861651023288405"
      ]
     },
     "execution_count": 33,
     "metadata": {},
     "output_type": "execute_result"
    }
   ],
   "source": [
    "annual_SR"
   ]
  },
  {
   "cell_type": "markdown",
   "metadata": {},
   "source": [
    "1 = gut \n",
    "2 = sehr gut\n",
    "3 = Excelent"
   ]
  },
  {
   "cell_type": "code",
   "execution_count": null,
   "metadata": {},
   "outputs": [],
   "source": []
  }
 ],
 "metadata": {
  "kernelspec": {
   "display_name": "Python 3",
   "language": "python",
   "name": "python3"
  },
  "language_info": {
   "codemirror_mode": {
    "name": "ipython",
    "version": 3
   },
   "file_extension": ".py",
   "mimetype": "text/x-python",
   "name": "python",
   "nbconvert_exporter": "python",
   "pygments_lexer": "ipython3",
   "version": "3.6.9"
  }
 },
 "nbformat": 4,
 "nbformat_minor": 2
}
